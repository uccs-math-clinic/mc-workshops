{
 "cells": [
  {
   "cell_type": "markdown",
   "id": "ae8b7d20",
   "metadata": {},
   "source": [
    "## Multi-Dimensional Decision Inputs\n",
    "\n",
    "In the [Introduction to Activation Functions](Introduction_ActivationFunctions.ipynb) notebook, we\n",
    "introduced the idea that very simple decisions may be encoded into mathematical functions known as\n",
    "_activation functions_. These functions in general take some numerical value as input and output\n",
    "a number between 0 and 1, which we interpret to be a measure of confidence about whether the decision\n",
    "which the function had made is a \"yes\" decision or a \"no\" decision. Our examples for this were quite\n",
    "limited in nature - we necessarily chose to consider examples which embodied a very simple in/out\n",
    "relationship consisting of a single variable input and a single output. It is immediately apparent that\n",
    "such models are extremely limited in their scope of applicability to real-world problems, as very few\n",
    "phenomena in the world around us are simple enough to be modeled via a simple activation function. In\n",
    "general, the vast majority of observed effects have multiple contributing causes, each of which contributes\n",
    "to the observed effect to varying degrees. For instance, one does not consider only the ambient\n",
    "temperature outside when deciding what to wear into a rainstorm - surely precipitation should\n",
    "influence this decision too, and to a disproportionate degree at that! It is intuitively apparent then\n",
    "that any model which we wish to use in order to replicate, classify, or predict observed phenomena ought to\n",
    "account for multiple causes.\n",
    "\n",
    "In this notebook, we expand our rudimentary decision model in a simple yet profound way by allowing multiple\n",
    "inputs to help determine what decision a model makes. In doing so, we take a small but significant step\n",
    "toward assembling a mathematical model which is capable of learning how to accurately make mathematically\n",
    "nuanced decisions.\n",
    "\n",
    "\n",
    "### Software Prerequisites\n",
    "\n",
    "The following Python libraries are prerequisites to run this notebook; simply run the following code block to\n",
    "install them. They are also listed in the `requirements.txt` file in the root of this notebook's\n",
    "[GitHub repository](https://github.com/uccs-math-clinic/mc-workshops)."
   ]
  },
  {
   "cell_type": "code",
   "execution_count": 1,
   "id": "0edab814",
   "metadata": {},
   "outputs": [
    {
     "name": "stdout",
     "output_type": "stream",
     "text": [
      "Requirement already satisfied: matplotlib==3.5.1 in /work/jonathan/uccs/mc-workshops/venv/lib/python3.10/site-packages (3.5.1)\r\n",
      "Requirement already satisfied: numpy==1.21.5 in /work/jonathan/uccs/mc-workshops/venv/lib/python3.10/site-packages (1.21.5)\r\n",
      "Requirement already satisfied: python-dateutil>=2.7 in /work/jonathan/uccs/mc-workshops/venv/lib/python3.10/site-packages (from matplotlib==3.5.1) (2.8.2)\r\n",
      "Requirement already satisfied: packaging>=20.0 in /work/jonathan/uccs/mc-workshops/venv/lib/python3.10/site-packages (from matplotlib==3.5.1) (21.3)\r\n",
      "Requirement already satisfied: fonttools>=4.22.0 in /work/jonathan/uccs/mc-workshops/venv/lib/python3.10/site-packages (from matplotlib==3.5.1) (4.29.1)\r\n",
      "Requirement already satisfied: kiwisolver>=1.0.1 in /work/jonathan/uccs/mc-workshops/venv/lib/python3.10/site-packages (from matplotlib==3.5.1) (1.3.2)\r\n",
      "Requirement already satisfied: pillow>=6.2.0 in /work/jonathan/uccs/mc-workshops/venv/lib/python3.10/site-packages (from matplotlib==3.5.1) (9.0.1)\r\n",
      "Requirement already satisfied: pyparsing>=2.2.1 in /work/jonathan/uccs/mc-workshops/venv/lib/python3.10/site-packages (from matplotlib==3.5.1) (3.0.7)\r\n",
      "Requirement already satisfied: cycler>=0.10 in /work/jonathan/uccs/mc-workshops/venv/lib/python3.10/site-packages (from matplotlib==3.5.1) (0.11.0)\r\n",
      "Requirement already satisfied: six>=1.5 in /work/jonathan/uccs/mc-workshops/venv/lib/python3.10/site-packages (from python-dateutil>=2.7->matplotlib==3.5.1) (1.16.0)\r\n",
      "\u001B[33mWARNING: You are using pip version 21.2.4; however, version 22.0.4 is available.\r\n",
      "You should consider upgrading via the '/work/jonathan/uccs/mc-workshops/venv/bin/python -m pip install --upgrade pip' command.\u001B[0m\r\n",
      "Note: you may need to restart the kernel to use updated packages.\n"
     ]
    }
   ],
   "source": [
    "%pip install matplotlib==3.5.1 \\\n",
    "             numpy==1.21.5"
   ]
  },
  {
   "cell_type": "markdown",
   "id": "93e807e1",
   "metadata": {},
   "source": [
    "The Python kernel must be restarted after running the above code block for the first time within a particular virtual environment. This may be accomplished by navigating to `Kernel -> Restart` in the menu bar.\n",
    "\n",
    "With our package dependencies installed, we can run the following [boilerplate code](https://en.wikipedia.org/wiki/Boilerplate_code) in order to import the packages needed for this notebook:"
   ]
  },
  {
   "cell_type": "code",
   "execution_count": 5,
   "id": "1f8b8c38",
   "metadata": {},
   "outputs": [
    {
     "data": {
      "text/plain": "<matplotlib.pyplot._IonContext at 0x7f53dc0602b0>"
     },
     "execution_count": 5,
     "metadata": {},
     "output_type": "execute_result"
    }
   ],
   "source": [
    "import numpy as np\n",
    "import matplotlib.pyplot as plt\n",
    "import matplotlib.colors as mcolors\n",
    "import time\n",
    "\n",
    "%matplotlib notebook\n",
    "plt.ion()"
   ]
  },
  {
   "cell_type": "markdown",
   "id": "448f48ad",
   "metadata": {
    "pycharm": {
     "name": "#%% md\n"
    }
   },
   "source": [
    "## Input Features\n",
    "\n",
    "As we explore a particular phenomenon which we wish to model or predict, it is likely that we can make some pretty\n",
    "good guesses as to what sorts of things contribute to the behavior of the phenomenon we observe. For example, if we\n",
    "consider a model which predicts appropriate outerwear given a set of weather conditions, we might conjecture that\n",
    "temperature, humidity, precipitation, and wind speed are all relevant sources of information for making an informed\n",
    "choice. If instead we wish to predict a student's performance on a test, we might consider the number of hours studied\n",
    "beforehand, the length of time over which the test material was presented in class, and the student's sleep schedule to\n",
    "all be contributing factors toward a pass or fail result. In both of these scenarios, there exist several contributing\n",
    "factors toward a particular result, and each factor carries with it its own level of influence toward that final result.\n",
    "These distinct factors are referred to as _features_ (or variables or attributes) for a mathematical model and - as we've\n",
    "seen with our simple examples already - may vary quite a bit between various models and contexts. The degree to which a\n",
    "particular feature contributes to a final decision made is referred to as that feature's _weight_. We often also wish to\n",
    "maintain some control over the threshold at which a decision is made; for instance, we'd probably like for a model which\n",
    "predicts the likelihood of a safe lane change while driving to output a very high probably of success before we act on\n",
    "that prediction. This activation threshold is referred to as the feature's _bias_. By adjusting these weights and biases,\n",
    "our model encodes the degree to which distinct input features are prioritized and in doing so allows us to more closely align\n",
    "the model's behavior with our own intuition and observations.\n",
    "\n",
    "Recall that we chose the logistic function as our sigmoid activation function, whose definition and derivative are as follows:\n",
    "\n",
    "$$\n",
    "\\begin{aligned}\n",
    "           f(z) &= \\frac{1}{1 + e^{-z}} \\\\\n",
    "  \\frac{df}{dz} &= f(z) \\cdot (1 - f(z))\n",
    "\\end{aligned}\n",
    "$$\n",
    "\n",
    "Moreover, if $z = z(\\textbf{\\theta}, x)$ is also function of some set of parameters $\\textbf{\\theta} = \\{\\theta_{i}\\}_{i=1}^{n}$ in\n",
    "addition to the input value $x$, then the partial derivative with respect to any single parameter $\\theta_i$ may be calculated\n",
    "via the Chain Rule:\n",
    "\n",
    "$$\n",
    "\\begin{equation*}\n",
    "  \\frac{\\partial f}{\\partial \\theta_i} &= f(z) \\cdot (1 - f(z)) \\cdot \\frac{\\partial z}{\\partial \\theta_i}\n",
    "\\end{equation*}\n",
    "$$\n",
    "\n",
    "In particular, we let $z = wx + b$, where $w$ and $b$ are the _weight_ and _bias_ parameters for the activation function $\\sigma(z)$,\n",
    "and $x$ is the actual feature data point. With this result in hand, we now turn our attention toward a decision function which maps two\n",
    "feature inputs $x_1$ and $x_2$ (with corresponding weights $w_1$ and $w_2$ and biases $b_1$ and $b_2$) to a single output decision. As\n",
    "before, we wish to learn the weight and bias which allows our model to most closely represent the available data set; the primary\n",
    "difference at this point is, of course, the fact that we are learning two sets of weights and biases simultaneously instead of just one.\n",
    "In this case, our decision function looks quite similar to before, with a slight modification to our definition of $z$:\n",
    "\n",
    "$$\n",
    "\\begin{aligned}\n",
    "           f(z) &= \\frac{1}{1 + e^{-z}} \\\\\n",
    "                &= \\frac{1}{1 + e^{-(w_{1}x_{1} + b_1 + w_{2}x_{2} + b_2)}}\n",
    "\\end{aligned}\n",
    "$$\n",
    "\n",
    "More succinctly:\n",
    "\n",
    "\n",
    "$$\n",
    "\\begin{equation*}\n",
    "           f(z) &= \\frac{1}{1 + e^{-\\sum_{i=1}^{2}{w_{i}x_{i} + b_i}}}\n",
    "\\end{equation*}\n",
    "$$\n"
   ]
  }
 ],
 "metadata": {
  "kernelspec": {
   "display_name": "Python 3 (ipykernel)",
   "language": "python",
   "name": "python3"
  },
  "language_info": {
   "codemirror_mode": {
    "name": "ipython",
    "version": 3
   },
   "file_extension": ".py",
   "mimetype": "text/x-python",
   "name": "python",
   "nbconvert_exporter": "python",
   "pygments_lexer": "ipython3",
   "version": "3.10.4"
  }
 },
 "nbformat": 4,
 "nbformat_minor": 5
}