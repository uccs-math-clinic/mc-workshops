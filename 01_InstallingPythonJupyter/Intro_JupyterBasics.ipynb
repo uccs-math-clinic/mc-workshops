{
 "cells": [
  {
   "cell_type": "markdown",
   "id": "c59f75b9",
   "metadata": {},
   "source": [
    "# Jupyter Basics\n",
    "\n",
    "Now that we've installed a virtual environment in Python and have a Jupyter server up and running, we can start to talk about how to actually use this tool for data science and scientific research. Because Jupyter is first and foremost a computing platform, any discussion about Jupyter necessarily involves some amount of discussion around computation itself. As such, there will be code examples used in this guide; while Python is the language of choice used in these workshops, the ideas discussed are specific to Jupyter itself and therefore also apply to Jupyter notebooks which utilize Julia, R, NodeJS, etc. instead of Python. While we do not expound upon these examples in great detail (we leave that to the [Supplement_PythonToolsDataScience Notebook](Supplement_PythonToolsDataScience.ipynb)), we do endeavour to utilize straightforward examples wherever possible.\n",
    "\n",
    "We refer the reader to the excellent [Official Jupyter Documentation](https://jupyter-notebook.readthedocs.io/en/stable/examples/Notebook/examples_index.html) for a complete reference regarding Jupyter notebooks; any information about notebooks not provided here is most certainly documented there.\n",
    "\n",
    "## Notebook Structure\n",
    "\n",
    "A Jupyter notebook is comprised of an ordered collection of cells. Every cell is \"runnable\", though what this means for a particular cells depends on what that particular cell does. A cell can be run by first clicking the cell itself, and then clicking the `Run` button in the icon bar at the top of a notebook.\n",
    "\n",
    "Every cell does one of two mutually exclusive things: it either says something or it does something. \n",
    "\n",
    "### Cells Which Say Something\n",
    "\n",
    "Cells which say something (such as the cell which contains this paragraph) contain text in a markup language called [Markdown](https://www.markdownguide.org/basic-syntax/) and quite appropriately are referred to as `Markdown` cells. These cells are useful for describing a model, for deriving equations (since they support $\\LaTeX$ math-mode syntax), and of course for developing theory.\n",
    "\n",
    "In this context, \"running\" a cell simply renders the markdown in the cell; for those familiar with LaTeX, this is analogous to compiling a `.tex` file into its corresponding PDF file.\n",
    "\n",
    "`Markdown` cells can be edited by double-clicking them - try it on this cell by double-clicking this text. This will cause the rendered view to change to Markdown code; the nicely formatted view can be recovered by running this ce\n",
    "\n",
    "### Cells Which Do Something\n",
    "\n",
    "Cells which do something contain interactive and executable code blocks; such cells are referred to as `Code` cells. Any particular notebook may only contain code blocks from a single language; by default, Jupyter only supports code blocks in Python, though a Jupyter server can be configured to support Julia, R, and a host of other languages.\n",
    "\n",
    "We mentioned earlier that the collection of cells is ordered - because of this fact, code cells are, in general, meant to be run sequentially. In fact, if one were to paste each `Code` cell together in order into one contiguous file, the result would be a single file which runs all code from the notebook. In particular, this file can be run outside the context of a Jupyter notebook, and so this idea is particularly useful for deploying a particular notebook project to a system equipped with a much higher system resource limit (e.g., a high-performance computing cluster). Jupyter supports this capability natively; selecting `File -> Download as -> Python (.py)` (or equivalent) will do exactly this.\n",
    "\n",
    "In this context, \"running\" the cell means precisely what one might intuit - the code inside the cell is executed. Let's try a simple example, wherein we declare a variable and print its value. Go ahead and run the following cell, and then try to change the value of the variable and run the cell again."
   ]
  },
  {
   "cell_type": "code",
   "execution_count": 4,
   "id": "1c82047c",
   "metadata": {},
   "outputs": [
    {
     "name": "stdout",
     "output_type": "stream",
     "text": [
      "10\n"
     ]
    }
   ],
   "source": [
    "# This is how we declare a variable in Python.\n",
    "#\n",
    "x = 10\n",
    "\n",
    "# This is perhaps the simplest way to print out the value of\n",
    "# a variable. There are certainly many others, though this will\n",
    "# suffice for most use-cases in a notebook.\n",
    "#\n",
    "print(x)"
   ]
  }
 ],
 "metadata": {
  "kernelspec": {
   "display_name": "Python 3 (ipykernel)",
   "language": "python",
   "name": "python3"
  },
  "language_info": {
   "codemirror_mode": {
    "name": "ipython",
    "version": 3
   },
   "file_extension": ".py",
   "mimetype": "text/x-python",
   "name": "python",
   "nbconvert_exporter": "python",
   "pygments_lexer": "ipython3",
   "version": "3.10.2"
  }
 },
 "nbformat": 4,
 "nbformat_minor": 5
}
