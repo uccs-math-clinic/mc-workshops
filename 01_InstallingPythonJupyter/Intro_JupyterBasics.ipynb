{
 "cells": [
  {
   "cell_type": "markdown",
   "id": "c59f75b9",
   "metadata": {},
   "source": [
    "# Jupyter Basics\n",
    "\n",
    "Now that we've installed a virtual environment in Python and have a Jupyter server up and running, we can start to talk about how to actually use this tool for data science and scientific research. Because Jupyter is first and foremost a computing platform, any discussion about Jupyter necessarily involves some amount of discussion around computation itself. As such, there will be code examples used in this guide; while Python is the language of choice used in these workshops, the ideas discussed are specific to Jupyter itself and therefore also apply to Jupyter notebooks which utilize Julia, R, NodeJS, etc. instead of Python. While we do not expound upon these examples in great detail (we leave that to the [Supplement_PythonToolsDataScience Notebook](Supplement_PythonToolsDataScience.ipynb)), we do endeavour to utilize straightforward examples wherever possible.\n",
    "\n",
    "We refer the reader to the excellent [Official Jupyter Notebooks Documentation](https://jupyter-notebook.readthedocs.io/en/stable/examples/Notebook/examples_index.html) for a complete reference regarding Jupyter notebooks; any information about notebooks not provided here is most certainly documented there.\n",
    "\n",
    "## Modifying a notebook\n",
    "\n",
    "Every Jupyter notebook is entirely contained in a single file with the `.ipynb` file extension, and is named according to the title of the notebook - for instance, the file which contains this notebook is `Intro_JupyterBasics.ipynb`. When one modifies a notebook in a running Jupyter server, those changes are saved to the corresponding `.ipynb` file. The notebook can therefore be shared by simply sharing the corresponding notebook file, much as one might share a PDF file, a Word document, or a MATLAB code file. In particular, one may download a Jupyter notebook from any Jupyter server by navigating to `File -> Download as -> Notebook (.ipynb)` in the topmost menu bar. This is particularly useful if one would like to download a Jupyter notebook running in a cloud service and would like to save a copy of that notebook for local use; this is the paradigm we adopt in these workshops. \n",
    "\n",
    "## Notebook Structure\n",
    "\n",
    "A Jupyter notebook is comprised of an ordered collection of cells. Every cell is \"runnable\", though what this means for a particular cells depends on what that particular cell does. A cell can be run by first clicking the cell itself, and then clicking the `Run` button in the icon bar at the top of a notebook.\n",
    "\n",
    "Every cell does one of two mutually exclusive things: it either says something or it does something. A cell's type can be specified in the dropdown menu in the toolbar for the notebook. As before, the cell should be selected by clicking on it; once selected, changing the value in the dropdown menu will change the cell's type. New cells can be added via the `Insert -> Insert Cell Above` and `Insert -> Insert Cell Below` menu options.\n",
    "\n",
    "### Cells Which Say Something\n",
    "\n",
    "Cells which say something (such as the cell which contains this paragraph) contain text in a markup language called [Markdown](https://www.markdownguide.org/basic-syntax/) and quite appropriately are referred to as `Markdown` cells. These cells are useful for describing a model, for deriving equations (since these cells support $\\LaTeX$ math-mode syntax), and of course for developing theory.\n",
    "\n",
    "In this context, \"running\" a cell simply renders the markdown in the cell; for those familiar with LaTeX, this is analogous to compiling a `.tex` file into its corresponding PDF file.\n",
    "\n",
    "`Markdown` cells can be edited by double-clicking them - try it on this cell by double-clicking this text. This will cause the rendered view to change to Markdown code; the nicely formatted view can be recovered by running this ce\n",
    "\n",
    "### Cells Which Do Something\n",
    "\n",
    "Cells which do something contain interactive and executable code blocks; such cells are referred to as `Code` cells. Any particular notebook may only contain code blocks from a single language; by default, Jupyter only supports code blocks in Python, though a Jupyter server can be configured to support Julia, R, and a host of other languages.\n",
    "\n",
    "We mentioned earlier that the collection of cells is ordered - because of this fact, code cells are, in general, meant to be run sequentially. In fact, if one were to paste each `Code` cell together in order into one contiguous file, the result would be a single file which runs all code from the notebook. In particular, this file can be run outside the context of a Jupyter notebook, and so this idea is particularly useful for deploying a particular notebook project to a system equipped with a much higher system resource limit (e.g., a high-performance computing cluster). Jupyter supports this capability natively; selecting `File -> Download as -> Python (.py)` (or equivalent) will do exactly this.\n",
    "\n",
    "In this context, \"running\" the cell means precisely what one might intuit - the code inside the cell is executed. Let's try a simple example, wherein we declare a variable and print its value. Go ahead and run the following cell once, then change the value of the variable, and then run the cell again to try this functionality out."
   ]
  },
  {
   "cell_type": "code",
   "execution_count": null,
   "id": "1c82047c",
   "metadata": {},
   "outputs": [],
   "source": [
    "# This is how we declare a variable in Python; this particular\n",
    "# example represents a single number, though the value can be\n",
    "# a string, a matrix, or even a list of other variables.\n",
    "#\n",
    "x = 3\n",
    "\n",
    "# This is how we create a function in Python; this particular\n",
    "# example creates a function named \"sq\" which squares a \n",
    "# particular input and returns a tuple whose\n",
    "# first element is the input value and the second element is\n",
    "# the squared value.\n",
    "# \n",
    "# Python interprets the indentation below as the body of the\n",
    "# function; i.e., it is the list of commands which is executed\n",
    "# when this function is called.\n",
    "#\n",
    "def sq(value_to_square):\n",
    "    return (value_to_square, value_to_square ** 2)\n",
    "\n",
    "    # We could also choose to return an array of these\n",
    "    # values instead of a tuple; which is appropriate for a \n",
    "    # particular notebook depends highly upon developer preference\n",
    "    # and the types of the variable(s) being returned.\n",
    "    # \n",
    "    # The most important difference between the two is that\n",
    "    # an array is more efficient but must be of a single type\n",
    "    # (e.g., all numbers), and a tuple is less efficient but\n",
    "    # may contain any arbitrary collection of types.\n",
    "    #\n",
    "    # Since both variables in this function are numbers, we\n",
    "    # could just as legitimately return an array of the two\n",
    "    # values:\n",
    "    #\n",
    "    # return [value_to_square, value_to_square ** 2]\n",
    "    \n",
    "\n",
    "# This is perhaps the simplest way to print out the value of\n",
    "# a variable. There are certainly many others, though this will\n",
    "# suffice for most use-cases in a notebook.\n",
    "#\n",
    "print(sq(x))"
   ]
  },
  {
   "cell_type": "markdown",
   "id": "ed6db483",
   "metadata": {},
   "source": [
    "### Notebook Kernels\n",
    "\n",
    "Within a particular notebook, each code block must run _somewhere_. When a notebook is opened in Jupyter, a new interactive Python interpreter is run in the background which runs the code in each code block. This interactive session is referred to as the _kernel_ for the notebook. Since the same interactive session (or kernel) is used for each code block in a notebook, things like variable state, function definitions, and imports are all retained between code blocks. Put simply, this means that if a different code block is run which declares a variable, that variable is available for use in different code blocks. Assuming that the code block from the prior section has been run, we may observe this behavior by printing the variable we assigned in that block:\n"
   ]
  },
  {
   "cell_type": "code",
   "execution_count": null,
   "id": "7ad9c4d9",
   "metadata": {},
   "outputs": [],
   "source": [
    "# Note that we didn't have to re-assign a value to x or re-define \"sq\", since we\n",
    "# did so in the previous block.\n",
    "#\n",
    "print(sq(2*x))"
   ]
  },
  {
   "cell_type": "markdown",
   "id": "8c6d59aa",
   "metadata": {},
   "source": [
    "Of particular import is to note that this also means that running code blocks out-of-order may introduce unexpected behaviors as variable are assigned different values than one might expect. This can be addressed in one of two ways; we can either:\n",
    "\n",
    "1) Always run code block in the order in which they're written (Selecting `Cell -> Run All` from the menu bar will do precisely this).\n",
    "\n",
    "2) Always use unique variable and function names for each code cell.\n",
    "\n",
    "It is typically up to the reader to decide which is most appropriate, and a valid case can be made for either convention. For the sake of consistency in these guides, we abide by the former of these options.\n",
    "\n",
    "One might begin to suspect that after working with a particular notebook for a while, the state of all the variables might become cluttered as we try various ideas and algorithms in our exploration of data science. We can reset a notebook to a completely fresh state by restarting the kernel (recall that the kernel refers to the interactive Python session running in the background); doing so removes all variables and clears all library imports. This can be accomplished by selecting `Kernel -> Restart` from the above menu bar; selecting `Kernel -> Restart & Clear All` will restart the kernel and clear any output of existing cells.\n",
    "\n",
    "To see this, select `Kernel -> Restart` from the above menu bar, and then run *only* the following code cell eithout running the above cells; doing so should print a `NameError`, since `x` will no longer be defined (having been cleared by restarting the kernel):"
   ]
  },
  {
   "cell_type": "code",
   "execution_count": null,
   "id": "3577d3a2",
   "metadata": {},
   "outputs": [],
   "source": [
    "print(x)"
   ]
  },
  {
   "cell_type": "markdown",
   "id": "2eed0ce5",
   "metadata": {},
   "source": [
    "We conclude this operational introduction to Jupyter notebooks with one final note regarding kernels - because the kernel is entirely responsible for the execution of code within code blocks, a particular kernel is restricted to a single programming language (and indeed, the one-to-one correspondence between a running notebook and its kernel is the reason that we cannot interchange different languages within a single notebook). Language support for a particular notebook is added by installing that language's Jupyter kernel as a Python package. This process typically involves two steps; the first is to install the desired programming language language to the computer which is running the Jupyter server, and the second is to install into Jupyter an extension which runs a kernel for that particular language. In practice, the second of these is typically done by using `pip` to install the Jupyter kernel extension as a Python package into the same Python virtual environment in which Jupyter itself is running. More information about this can be found in the [Jupyter Server Docs](https://docs.jupyter.org/en/latest/projects/kernels.html)."
   ]
  }
 ],
 "metadata": {
  "kernelspec": {
   "display_name": "Python 3 (ipykernel)",
   "language": "python",
   "name": "python3"
  },
  "language_info": {
   "codemirror_mode": {
    "name": "ipython",
    "version": 3
   },
   "file_extension": ".py",
   "mimetype": "text/x-python",
   "name": "python",
   "nbconvert_exporter": "python",
   "pygments_lexer": "ipython3",
   "version": "3.10.2"
  }
 },
 "nbformat": 4,
 "nbformat_minor": 5
}
